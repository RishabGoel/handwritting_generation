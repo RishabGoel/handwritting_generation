{
 "cells": [
  {
   "cell_type": "code",
   "execution_count": 1,
   "metadata": {},
   "outputs": [],
   "source": [
    "import numpy as np\n",
    "\n",
    "def create_splits(path_to_data, create_valid = False):\n",
    "\t\n",
    "\tdata = np.load(path_to_data, allow_pickle=True, encoding = 'latin1')\n",
    "\t\n",
    "\ttrain = data[ : int(0.8 * data.shape[0])]\n",
    "\t\n",
    "\tif create_valid:\n",
    "\t\n",
    "\t\tvalid = data[int(0.8 * data.shape[0]) : int(0.9 * data.shape[0])]\n",
    "\t\ttest = data[int(0.9 * data.shape[0]) : ]\n",
    "\t\t\n",
    "\t\tassert(train.shape[0] + valid.shape[0] + test.shape[0] == data.shape[0])\n",
    "\n",
    "\telse:\n",
    "\t\n",
    "\t\ttest = data[int(0.8 * data.shape[0]) : ]\n",
    "\n",
    "\t\tassert(train.shape[0] + test.shape[0] == data.shape[0])\n",
    "\n",
    "\treturn train, test \n",
    "\n",
    "def create_xy(data):\n",
    "\tx = []\n",
    "\ty = []\n",
    "\t\n",
    "\tfor data_idx in range(data.shape[0]):\n",
    "\t\tx.append(data[data_idx][:-1])\n",
    "\t\ty.append(data[data_idx][1:])\n",
    "\n",
    "\t\tassert(x[-1].shape==y[-1].shape)\n",
    "\t# print(x[0].shape,)\n",
    "\tx = np.array(x)\n",
    "\ty = np.array(y)\n",
    "\n",
    "\tassert(x.shape == y.shape)\n",
    "\n",
    "\treturn x, y\n",
    "\n",
    "def get_stats(data):\n",
    "\tx = []\n",
    "\ty =  []\n",
    "\tfor i in range(data.shape[0]):\n",
    "\t\tx.append(data[i][:,1])\n",
    "\t\ty.append(data[i][:,2])\n",
    "\n",
    "\tassert(len(x)==data.shape[0])\n",
    "\tassert(len(y)==data.shape[0])\n",
    "\n",
    "\tprint(len(x))\n",
    "\t\n",
    "\tx = np.concatenate(x)\n",
    "\ty = np.concatenate(y)\n",
    "\n",
    "\tassert(x.shape==y.shape)\n",
    "\t\n",
    "\tprint(x.shape)\n",
    "\n",
    "\t# import pdb;pdb.set_trace()\n",
    "\t\n",
    "\treturn [np.mean(x), np.mean(y)], [np.std(x), np.std(y)]\n",
    "\n",
    "def normalize_data(data, mean, std):\n",
    "\t\n",
    "\tfor i in range(data.shape[0]):\n",
    "\t\ttmp = data[i]\n",
    "\t\t# import pdb; pdb.set_trace()\n",
    "\t\ttmp[:,1] -= mean[0]\n",
    "\t\ttmp[:,1] /= std[0]\n",
    "\n",
    "\t\ttmp[:,2] -= mean[1]\n",
    "\t\ttmp[:,2] /= std[1]\n",
    "\t\t# import pdb; pdb.set_trace()\n",
    "\t\tdata[i] = tmp\n",
    "\t\t# import pdb; pdb.set_trace()\n",
    "\treturn data\n",
    "\n",
    "def un_normalize_data(data, mean, std):\n",
    "\tfor i in range(data.shape[0]):\n",
    "\t\ttmp = data[i]\n",
    "\t\ttmp[:, 1] *= std[0]\n",
    "\t\ttmp[:, 1] += mean[0]\n",
    "\n",
    "\t\ttmp[:, 2] *= mean[1]\n",
    "\t\ttmp[:, 2] += std[1]\n",
    "\n",
    "\t\tdata[i] = tmp\n",
    "\treturn data"
   ]
  },
  {
   "cell_type": "code",
   "execution_count": 12,
   "metadata": {},
   "outputs": [],
   "source": [
    "def normalize_data(data, mean, std):\n",
    "\tnorm_data = []\n",
    "\tfor i in range(data.shape[0]):\n",
    "\t\ttmp = np.copy(data[i])\n",
    "\t\t# import pdb; pdb.set_trace()\n",
    "\t\ttmp[:,1] -= mean[0]\n",
    "\t\ttmp[:,1] /= std[0]\n",
    "\n",
    "\t\ttmp[:,2] -= mean[1]\n",
    "\t\ttmp[:,2] /= std[1]\n",
    "\t\t# import pdb; pdb.set_trace()\n",
    "\t\tnorm_data.append(tmp)\n",
    "\t\t# import pdb; pdb.set_trace()\n",
    "\treturn np.array(norm_data)"
   ]
  },
  {
   "cell_type": "code",
   "execution_count": 18,
   "metadata": {},
   "outputs": [],
   "source": [
    "train, test = create_splits('..\\\\data\\\\strokes.npy')"
   ]
  },
  {
   "cell_type": "code",
   "execution_count": 14,
   "metadata": {},
   "outputs": [
    {
     "data": {
      "text/plain": [
       "array([[0., 0., 0.],\n",
       "       [0., 0., 0.]], dtype=float32)"
      ]
     },
     "execution_count": 14,
     "metadata": {},
     "output_type": "execute_result"
    }
   ],
   "source": [
    "train[0][:2]"
   ]
  },
  {
   "cell_type": "code",
   "execution_count": 15,
   "metadata": {},
   "outputs": [
    {
     "name": "stdout",
     "output_type": "stream",
     "text": [
      "4800\n",
      "(3097976,)\n"
     ]
    }
   ],
   "source": [
    "train_mean, train_std = get_stats(np.copy(train))"
   ]
  },
  {
   "cell_type": "code",
   "execution_count": 16,
   "metadata": {},
   "outputs": [],
   "source": [
    "train_norm = normalize_data(np.copy(train), train_mean, train_std)"
   ]
  },
  {
   "cell_type": "code",
   "execution_count": 19,
   "metadata": {},
   "outputs": [
    {
     "data": {
      "text/plain": [
       "array([[0., 0., 0.],\n",
       "       [0., 0., 0.]], dtype=float32)"
      ]
     },
     "execution_count": 19,
     "metadata": {},
     "output_type": "execute_result"
    }
   ],
   "source": [
    "train[0][:2]"
   ]
  }
 ],
 "metadata": {
  "kernelspec": {
   "display_name": "Python 3",
   "language": "python",
   "name": "python3"
  },
  "language_info": {
   "codemirror_mode": {
    "name": "ipython",
    "version": 3
   },
   "file_extension": ".py",
   "mimetype": "text/x-python",
   "name": "python",
   "nbconvert_exporter": "python",
   "pygments_lexer": "ipython3",
   "version": "3.6.9"
  }
 },
 "nbformat": 4,
 "nbformat_minor": 2
}
